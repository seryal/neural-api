{
  "cells": [
    {
      "cell_type": "code",
      "execution_count": 11,
      "metadata": {
        "id": "cpHnwLCfgoRa"
      },
      "outputs": [],
      "source": [
        "# This file has an implementation to classify\n",
        "# the Malaria Dataset:\n",
        "# https://data.lhncbc.nlm.nih.gov/public/Malaria/cell_images.zip\n",
        "# https://www.tensorflow.org/datasets/catalog/malaria\n",
        "\n",
        "# This source code required the CAI Neural API found at:\n",
        "# https://github.com/joaopauloschuler/neural-api\n",
        "\n",
        "# To be able to run this code, you'll need at least 16GB of RAM."
      ]
    },
    {
      "cell_type": "code",
      "execution_count": 12,
      "metadata": {
        "id": "caxX6MvjgoRh",
        "outputId": "b9f2dc88-e81d-469f-e720-869a776b4baa",
        "colab": {
          "base_uri": "https://localhost:8080/"
        }
      },
      "outputs": [
        {
          "output_type": "stream",
          "name": "stdout",
          "text": [
            "Reading package lists... Done\n",
            "Building dependency tree       \n",
            "Reading state information... Done\n",
            "zip is already the newest version (3.0-11build1).\n",
            "fpc is already the newest version (3.0.4+dfsg-23).\n",
            "fpc-source is already the newest version (3.0.4+dfsg-23).\n",
            "lazarus is already the newest version (2.0.6+dfsg-3).\n",
            "git is already the newest version (1:2.25.1-1ubuntu3.11).\n",
            "unzip is already the newest version (6.0-25ubuntu1.1).\n",
            "subversion is already the newest version (1.13.0-3ubuntu0.2).\n",
            "0 upgraded, 0 newly installed, 0 to remove and 13 not upgraded.\n"
          ]
        }
      ],
      "source": [
        "!apt-get install -y fpc fpc-source lazarus git subversion zip unzip"
      ]
    },
    {
      "cell_type": "code",
      "execution_count": 13,
      "metadata": {
        "id": "ma8c_Sh_goRj",
        "outputId": "8ddabde1-8848-4e41-ee19-de69da864f6f",
        "colab": {
          "base_uri": "https://localhost:8080/"
        }
      },
      "outputs": [
        {
          "output_type": "stream",
          "name": "stdout",
          "text": [
            "Checked out revision 8877.\n"
          ]
        }
      ],
      "source": [
        "!svn checkout https://svn.code.sf.net/p/lazarus-ccr/svn/components/multithreadprocs mtprocs"
      ]
    },
    {
      "cell_type": "code",
      "execution_count": 14,
      "metadata": {
        "id": "bASxnrNPgoRk",
        "outputId": "887cda21-d760-42a9-a9a3-5465c5d15975",
        "colab": {
          "base_uri": "https://localhost:8080/"
        }
      },
      "outputs": [
        {
          "output_type": "stream",
          "name": "stdout",
          "text": [
            "Already up to date.\n",
            "Processing /content/k\n",
            "  Preparing metadata (setup.py) ... \u001b[?25l\u001b[?25hdone\n",
            "Requirement already satisfied: pandas>=0.22.0 in /usr/local/lib/python3.10/dist-packages (from cai==0.1.7) (1.5.3)\n",
            "Requirement already satisfied: scikit-image>=0.15.0 in /usr/local/lib/python3.10/dist-packages (from cai==0.1.7) (0.19.3)\n",
            "Requirement already satisfied: opencv-python>=4.1.2.30 in /usr/local/lib/python3.10/dist-packages (from cai==0.1.7) (4.7.0.72)\n",
            "Requirement already satisfied: scikit-learn>=0.21.0 in /usr/local/lib/python3.10/dist-packages (from cai==0.1.7) (1.2.2)\n",
            "Requirement already satisfied: numpy in /usr/local/lib/python3.10/dist-packages (from cai==0.1.7) (1.22.4)\n",
            "Requirement already satisfied: python-dateutil>=2.8.1 in /usr/local/lib/python3.10/dist-packages (from pandas>=0.22.0->cai==0.1.7) (2.8.2)\n",
            "Requirement already satisfied: pytz>=2020.1 in /usr/local/lib/python3.10/dist-packages (from pandas>=0.22.0->cai==0.1.7) (2022.7.1)\n",
            "Requirement already satisfied: scipy>=1.4.1 in /usr/local/lib/python3.10/dist-packages (from scikit-image>=0.15.0->cai==0.1.7) (1.10.1)\n",
            "Requirement already satisfied: networkx>=2.2 in /usr/local/lib/python3.10/dist-packages (from scikit-image>=0.15.0->cai==0.1.7) (3.1)\n",
            "Requirement already satisfied: pillow!=7.1.0,!=7.1.1,!=8.3.0,>=6.1.0 in /usr/local/lib/python3.10/dist-packages (from scikit-image>=0.15.0->cai==0.1.7) (8.4.0)\n",
            "Requirement already satisfied: imageio>=2.4.1 in /usr/local/lib/python3.10/dist-packages (from scikit-image>=0.15.0->cai==0.1.7) (2.25.1)\n",
            "Requirement already satisfied: tifffile>=2019.7.26 in /usr/local/lib/python3.10/dist-packages (from scikit-image>=0.15.0->cai==0.1.7) (2023.7.4)\n",
            "Requirement already satisfied: PyWavelets>=1.1.1 in /usr/local/lib/python3.10/dist-packages (from scikit-image>=0.15.0->cai==0.1.7) (1.4.1)\n",
            "Requirement already satisfied: packaging>=20.0 in /usr/local/lib/python3.10/dist-packages (from scikit-image>=0.15.0->cai==0.1.7) (23.1)\n",
            "Requirement already satisfied: joblib>=1.1.1 in /usr/local/lib/python3.10/dist-packages (from scikit-learn>=0.21.0->cai==0.1.7) (1.3.1)\n",
            "Requirement already satisfied: threadpoolctl>=2.0.0 in /usr/local/lib/python3.10/dist-packages (from scikit-learn>=0.21.0->cai==0.1.7) (3.1.0)\n",
            "Requirement already satisfied: six>=1.5 in /usr/local/lib/python3.10/dist-packages (from python-dateutil>=2.8.1->pandas>=0.22.0->cai==0.1.7) (1.16.0)\n",
            "Building wheels for collected packages: cai\n",
            "  Building wheel for cai (setup.py) ... \u001b[?25l\u001b[?25hdone\n",
            "  Created wheel for cai: filename=cai-0.1.7-py3-none-any.whl size=61379 sha256=11bfa62c65dfcfa06e2a48454dc04ed502c136de6ca76fdcd8d444614df7fca0\n",
            "  Stored in directory: /tmp/pip-ephem-wheel-cache-0ece7t0a/wheels/80/61/f5/947bedc7e497038def7d1381fb65d37bd126a80e010114b8f1\n",
            "Successfully built cai\n",
            "Installing collected packages: cai\n",
            "  Attempting uninstall: cai\n",
            "    Found existing installation: cai 0.1.7\n",
            "    Uninstalling cai-0.1.7:\n",
            "      Successfully uninstalled cai-0.1.7\n",
            "Successfully installed cai-0.1.7\n"
          ]
        }
      ],
      "source": [
        "import os\n",
        "\n",
        "if not os.path.isdir('k'):\n",
        "  !git clone https://github.com/joaopauloschuler/k-neural-api.git k\n",
        "else:\n",
        "  !cd k && git pull\n",
        "\n",
        "!cd k && pip install ."
      ]
    },
    {
      "cell_type": "code",
      "execution_count": 15,
      "metadata": {
        "id": "JZsKi8FegoRm",
        "outputId": "0975bf5e-fc24-4f74-d112-10dcf496fd8d",
        "colab": {
          "base_uri": "https://localhost:8080/"
        }
      },
      "outputs": [
        {
          "output_type": "stream",
          "name": "stdout",
          "text": [
            "Checked out revision 1772.\n"
          ]
        }
      ],
      "source": [
        "!svn checkout https://svn.code.sf.net/p/cai/svncode/trunk/lazarus neural-api"
      ]
    },
    {
      "cell_type": "code",
      "execution_count": 16,
      "metadata": {
        "id": "wbybS6i_goRn",
        "outputId": "b2368467-e4b2-4fcf-81d9-36aee172172f",
        "colab": {
          "base_uri": "https://localhost:8080/"
        }
      },
      "outputs": [
        {
          "output_type": "stream",
          "name": "stdout",
          "text": [
            "Hint: (lazarus) [RunTool] \"/usr/bin/fpc\" \"-iWTOTP\"\n",
            "Hint: (lazarus) [RunTool] \"/usr/bin/fpc\" \"-va\" \"compilertest.pas\"\n"
          ]
        }
      ],
      "source": [
        "!lazbuild mtprocs/multithreadprocslaz.lpk"
      ]
    },
    {
      "cell_type": "code",
      "execution_count": 17,
      "metadata": {
        "id": "ubDLHcXKgoRo",
        "outputId": "7aab9c83-1920-434d-86ca-dc6dee17ebd5",
        "colab": {
          "base_uri": "https://localhost:8080/"
        }
      },
      "outputs": [
        {
          "output_type": "stream",
          "name": "stdout",
          "text": [
            "Hint: (lazarus) [RunTool] \"/usr/bin/fpc\" \"-iWTOTP\"\n",
            "Hint: (lazarus) [RunTool] \"/usr/bin/fpc\" \"-va\" \"compilertest.pas\"\n",
            "Hint: (lazarus) Build Project: nothing to do.\n",
            "Hint: (lazarus) [RunTool] \"/usr/bin/fpc\" \"-iWTOTP\" \"-Px86_64\" \"-Tlinux\"\n",
            "Hint: (lazarus) [RunTool] \"/usr/bin/fpc\" \"-va\" \"compilertest.pas\" \"-Px86_64\" \"-Tlinux\"\n",
            "Info: (lazarus) Execute Title=\"Compile Project, Mode: Default, Target: /content/neural-api/bin/x86_64-linux/bin/MalariaImageClassification\"\n",
            "Info: (lazarus) Working Directory=\"/content/neural-api/examples/MalariaImageClassification/\"\n",
            "Info: (lazarus) Executable=\"/usr/bin/fpc\"\n",
            "Info: (lazarus) Param[0]=\"-MObjFPC\"\n",
            "Info: (lazarus) Param[1]=\"-Scghi\"\n",
            "Info: (lazarus) Param[2]=\"-Cg\"\n",
            "Info: (lazarus) Param[3]=\"-O3\"\n",
            "Info: (lazarus) Param[4]=\"-l\"\n",
            "Info: (lazarus) Param[5]=\"-vewnhibq\"\n",
            "Info: (lazarus) Param[6]=\"-Fi/content/neural-api/neural\"\n",
            "Info: (lazarus) Param[7]=\"-Fi/content/neural-api/bin/x86_64-linux/units\"\n",
            "Info: (lazarus) Param[8]=\"-Fu/content/neural-api/neural\"\n",
            "Info: (lazarus) Param[9]=\"-Fu/usr/lib/lazarus/2.0.6/lcl/units/x86_64-linux\"\n",
            "Info: (lazarus) Param[10]=\"-Fu/usr/lib/lazarus/2.0.6/components/lazutils/lib/x86_64-linux\"\n",
            "Info: (lazarus) Param[11]=\"-Fu/content/mtprocs/lib/x86_64-linux\"\n",
            "Info: (lazarus) Param[12]=\"-Fu/usr/lib/lazarus/2.0.6/packager/units/x86_64-linux\"\n",
            "Info: (lazarus) Param[13]=\"-Fu/content/neural-api/examples/MalariaImageClassification/\"\n",
            "Info: (lazarus) Param[14]=\"-FU/content/neural-api/bin/x86_64-linux/units/\"\n",
            "Info: (lazarus) Param[15]=\"-FE/content/neural-api/bin/x86_64-linux/bin/\"\n",
            "Info: (lazarus) Param[16]=\"-o/content/neural-api/bin/x86_64-linux/bin/MalariaImageClassification\"\n",
            "Info: (lazarus) Param[17]=\"-dUseCThreads\"\n",
            "Info: (lazarus) Param[18]=\"-dAVX\"\n",
            "Info: (lazarus) Param[19]=\"-dRelease\"\n",
            "Info: (lazarus) Param[20]=\"MalariaImageClassification.pas\"\n",
            "Hint: (11030) Start of reading config file /etc/fpc.cfg\n",
            "Compiling Release Version\n",
            "Hint: (11031) End of reading config file /etc/fpc.cfg\n",
            "Free Pascal Compiler version 3.0.4+dfsg-23 [2019/11/25] for x86_64\n",
            "/usr/bin/ld.bfd: warning: /content/neural-api/bin/x86_64-linux/bin/link.res contains output sections; did you forget -T?\n",
            "Copyright (c) 1993-2017 by Florian Klaempfl and others\n",
            "(1002) Target OS: Linux for x86-64\n",
            "(3104) Compiling MalariaImageClassification.pas\n",
            "/content/neural-api/examples/MalariaImageClassification/MalariaImageClassification.pas(20,60) Hint: (5023) Unit \"math\" not used in MalariaImageClassification\n",
            "(9015) Linking /content/neural-api/bin/x86_64-linux/bin/MalariaImageClassification\n",
            "(1008) 100 lines compiled, 0.7 sec\n",
            "(1022) 3 hint(s) issued\n"
          ]
        }
      ],
      "source": [
        "!lazbuild neural-api/examples/MalariaImageClassification/MalariaImageClassification.lpi"
      ]
    },
    {
      "cell_type": "code",
      "execution_count": 18,
      "metadata": {
        "id": "DpwUhqPXgoRp"
      },
      "outputs": [],
      "source": [
        "import cai.layers\n",
        "import cai.datasets\n",
        "import cai.models"
      ]
    },
    {
      "cell_type": "code",
      "execution_count": 19,
      "metadata": {
        "id": "4BG6wHXZgoRq"
      },
      "outputs": [],
      "source": [
        "    url_zip_file=\"https://data.lhncbc.nlm.nih.gov/public/Malaria/cell_images.zip\"\n",
        "    local_zip_file=\"dataset.zip\"\n",
        "    expected_folder_name=\"dataset\"\n",
        "    Verbose=True\n",
        "    cai.datasets.download_zip_and_extract(\n",
        "        url_zip_file=url_zip_file, local_zip_file=local_zip_file,\n",
        "        expected_folder_name=expected_folder_name, Verbose=Verbose)\n",
        "    if os.path.isdir('dataset/cell_images'):\n",
        "        !mv dataset/cell_images cell_images"
      ]
    },
    {
      "cell_type": "code",
      "execution_count": 20,
      "metadata": {
        "id": "BapCbILpgoRq",
        "outputId": "fd80ef3a-4a74-4013-c645-1a7e049488a1",
        "colab": {
          "base_uri": "https://localhost:8080/"
        }
      },
      "outputs": [
        {
          "output_type": "stream",
          "name": "stdout",
          "text": [
            "RUNNING: MalariaImageClassification\n",
            "Creating Neural Network...\n",
            " Layers: 14\n",
            " Neurons:387\n",
            " Weights:192322 Sum:  -25.683399\n",
            "Layer  0 Neurons:   0 Weights:     0 TNNetInput(128,128,3,0,0) Output:128,128,3 Learning Rate:0.0100 Inertia:0.90 Weight Sum:  0.0000 Bias Sum:  0.0000 Branches:1\n",
            "Layer  1 Neurons:  64 Weights:  4800 TNNetConvolutionLinear(64,5,4,2,0) Output:66,66,64 Learning Rate:0.0100 Inertia:0.90 Weight Sum:-10.6284 Bias Sum:  0.0000 Parent:0 Branches:1\n",
            "Layer  2 Neurons:   0 Weights:     0 TNNetMaxPool(2,2,0,0,0) Output:33,33,64 Learning Rate:0.0100 Inertia:0.90 Weight Sum:  0.0000 Bias Sum:  0.0000 Parent:1 Branches:1\n",
            "Layer  3 Neurons:   1 Weights:     2 TNNetMovingStdNormalization(0,0,0,0,0) Output:33,33,64 Learning Rate:0.0100 Inertia:0.90 Weight Sum:  1.0000 Bias Sum:  0.0000 Parent:2 Branches:1\n",
            "Layer  4 Neurons:  64 Weights: 36864 TNNetConvolutionReLU(64,3,1,1,0) Output:33,33,64 Learning Rate:0.0100 Inertia:0.90 Weight Sum: -5.9500 Bias Sum:  0.0000 Parent:3 Branches:1\n",
            "Layer  5 Neurons:  64 Weights: 36864 TNNetConvolutionReLU(64,3,1,1,0) Output:33,33,64 Learning Rate:0.0100 Inertia:0.90 Weight Sum:  1.3790 Bias Sum:  0.0000 Parent:4 Branches:1\n",
            "Layer  6 Neurons:   0 Weights:     0 TNNetMaxPool(2,2,0,0,0) Output:17,17,64 Learning Rate:0.0100 Inertia:0.90 Weight Sum:  0.0000 Bias Sum:  0.0000 Parent:5 Branches:1\n",
            "Layer  7 Neurons:  64 Weights: 36864 TNNetConvolutionReLU(64,3,1,1,0) Output:17,17,64 Learning Rate:0.0100 Inertia:0.90 Weight Sum: -2.6273 Bias Sum:  0.0000 Parent:6 Branches:1\n",
            "Layer  8 Neurons:  64 Weights: 36864 TNNetConvolutionReLU(64,3,1,1,0) Output:17,17,64 Learning Rate:0.0100 Inertia:0.90 Weight Sum: -2.1727 Bias Sum:  0.0000 Parent:7 Branches:1\n",
            "Layer  9 Neurons:  64 Weights: 36864 TNNetConvolutionReLU(64,3,1,2,0) Output:9,9,64 Learning Rate:0.0100 Inertia:0.90 Weight Sum: -9.1177 Bias Sum:  0.0000 Parent:8 Branches:1\n",
            "Layer 10 Neurons:   0 Weights:     0 TNNetDropout(2,1,0,0,0) Output:9,9,64 Learning Rate:0.0100 Inertia:0.90 Weight Sum:  0.0000 Bias Sum:  0.0000 Parent:9 Branches:1\n",
            "Layer 11 Neurons:   0 Weights:     0 TNNetMaxPool(2,2,0,0,0) Output:5,5,64 Learning Rate:0.0100 Inertia:0.90 Weight Sum:  0.0000 Bias Sum:  0.0000 Parent:10 Branches:1\n",
            "Layer 12 Neurons:   2 Weights:  3200 TNNetFullConnectLinear(2,1,1,0,0) Output:2,1,1 Learning Rate:0.0100 Inertia:0.90 Weight Sum:  2.4337 Bias Sum:  0.0000 Parent:11 Branches:1\n",
            "Layer 13 Neurons:   0 Weights:     0 TNNetSoftMax(0,0,0,0,0) Output:2,1,1 Learning Rate:0.0100 Inertia:0.90 Weight Sum:  0.0000 Bias Sum:  0.0000 Parent:12 Branches:0\n",
            "Loading 100% of the malaria dataset into memory.\n",
            "^C\n"
          ]
        }
      ],
      "source": [
        "if os.path.isdir('dataset'):\n",
        "  print(\"RUNNING: MalariaImageClassification\")\n",
        "  !neural-api/bin/x86_64-linux/bin/MalariaImageClassification"
      ]
    },
    {
      "cell_type": "code",
      "execution_count": 20,
      "metadata": {
        "id": "CxjUEGsCgoRr"
      },
      "outputs": [],
      "source": []
    }
  ],
  "metadata": {
    "kernelspec": {
      "display_name": "Python 3",
      "name": "python3"
    },
    "language_info": {
      "codemirror_mode": {
        "name": "ipython",
        "version": 3
      },
      "file_extension": ".py",
      "mimetype": "text/x-python",
      "name": "python",
      "nbconvert_exporter": "python",
      "pygments_lexer": "ipython3",
      "version": "3.6.9"
    },
    "colab": {
      "provenance": [],
      "machine_shape": "hm"
    }
  },
  "nbformat": 4,
  "nbformat_minor": 0
}