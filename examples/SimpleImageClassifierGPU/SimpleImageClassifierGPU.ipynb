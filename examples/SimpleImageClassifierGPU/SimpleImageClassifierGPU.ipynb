{
  "nbformat": 4,
  "nbformat_minor": 0,
  "metadata": {
    "colab": {
      "name": "SimpleImageClassificationGPU.ipynb",
      "provenance": [],
      "collapsed_sections": []
    },
    "kernelspec": {
      "name": "python3",
      "display_name": "Python 3"
    },
    "accelerator": "GPU"
  },
  "cells": [
    {
      "cell_type": "code",
      "metadata": {
        "id": "StlfOyEBeDHG",
        "colab_type": "code",
        "colab": {}
      },
      "source": [
        "!clinfo"
      ],
      "execution_count": 0,
      "outputs": []
    },
    {
      "cell_type": "code",
      "metadata": {
        "id": "qAy5FJaX1dsa",
        "colab_type": "code",
        "colab": {}
      },
      "source": [
        "!apt-get update"
      ],
      "execution_count": 0,
      "outputs": []
    },
    {
      "cell_type": "code",
      "metadata": {
        "id": "UHZcHLryCbir",
        "colab_type": "code",
        "colab": {}
      },
      "source": [
        "!apt-get install fpc fpc-source lazarus git subversion"
      ],
      "execution_count": 0,
      "outputs": []
    },
    {
      "cell_type": "code",
      "metadata": {
        "id": "qhr-tY5c1o3J",
        "colab_type": "code",
        "colab": {}
      },
      "source": [
        "!git clone https://github.com/joaopauloschuler/neural-api.git"
      ],
      "execution_count": 0,
      "outputs": []
    },
    {
      "cell_type": "code",
      "metadata": {
        "id": "8htgbUo9744q",
        "colab_type": "code",
        "colab": {}
      },
      "source": [
        "# !svn checkout https://svn.code.sf.net/p/lazarus-ccr/svn/components/multithreadprocs mtprocs"
      ],
      "execution_count": 0,
      "outputs": []
    },
    {
      "cell_type": "code",
      "metadata": {
        "id": "NYDMPdbn7W9w",
        "colab_type": "code",
        "colab": {}
      },
      "source": [
        "# !lazbuild mtprocs/multithreadprocslaz.lpk"
      ],
      "execution_count": 0,
      "outputs": []
    },
    {
      "cell_type": "code",
      "metadata": {
        "id": "H_mKELt35Hym",
        "colab_type": "code",
        "colab": {}
      },
      "source": [
        "!ls -l neural-api/examples/SimpleImageClassifierGPU/SimpleImageClassifierGPU.lpi"
      ],
      "execution_count": 0,
      "outputs": []
    },
    {
      "cell_type": "code",
      "metadata": {
        "id": "_Xye-mYy2UHP",
        "colab_type": "code",
        "colab": {}
      },
      "source": [
        "!lazbuild neural-api/examples/SimpleImageClassifierGPU/SimpleImageClassifierGPU.lpi"
      ],
      "execution_count": 0,
      "outputs": []
    },
    {
      "cell_type": "code",
      "metadata": {
        "id": "7xWWg1E1P2pm",
        "colab_type": "code",
        "colab": {}
      },
      "source": [
        "ls -l neural-api/bin/x86_64-linux/bin/SimpleImageClassifierGPU"
      ],
      "execution_count": 0,
      "outputs": []
    },
    {
      "cell_type": "code",
      "metadata": {
        "id": "WBxvm6S4-FtJ",
        "colab_type": "code",
        "colab": {}
      },
      "source": [
        "import os\n",
        "import urllib.request\n",
        "\n",
        "if not os.path.isfile('cifar-10-batches-bin/data_batch_1.bin'):\n",
        "  print(\"Downloading CIFAR-10 Files\")\n",
        "  url = 'https://www.cs.toronto.edu/~kriz/cifar-10-binary.tar.gz'\n",
        "  urllib.request.urlretrieve(url, './file.tar')"
      ],
      "execution_count": 0,
      "outputs": []
    },
    {
      "cell_type": "code",
      "metadata": {
        "id": "SpfaXVrrKgd0",
        "colab_type": "code",
        "colab": {}
      },
      "source": [
        "ls -l"
      ],
      "execution_count": 0,
      "outputs": []
    },
    {
      "cell_type": "code",
      "metadata": {
        "id": "doqZbQkqKy9I",
        "colab_type": "code",
        "colab": {}
      },
      "source": [
        "!tar -xvf ./file.tar"
      ],
      "execution_count": 0,
      "outputs": []
    },
    {
      "cell_type": "code",
      "metadata": {
        "id": "VWB54wU5B1I9",
        "colab_type": "code",
        "outputId": "e9a59ba4-ca6f-4f48-fa93-5027bc98fee3",
        "colab": {
          "base_uri": "https://localhost:8080/",
          "height": 34
        }
      },
      "source": [
        "if not os.path.isfile('./data_batch_1.bin'):\n",
        "  print(\"Copying files to current folder\")\n",
        "  !cp ./cifar-10-batches-bin/* ./"
      ],
      "execution_count": 24,
      "outputs": [
        {
          "output_type": "stream",
          "text": [
            "Copying files to current folder\n"
          ],
          "name": "stdout"
        }
      ]
    },
    {
      "cell_type": "code",
      "metadata": {
        "id": "X5bpFXiaC_PY",
        "colab_type": "code",
        "colab": {}
      },
      "source": [
        "if os.path.isfile('./data_batch_1.bin'):\n",
        "  print(\"RUNNING!\")\n",
        "  !cp neural-api/neural/*.cl ./\n",
        "  !neural-api/bin/x86_64-linux/bin/SimpleImageClassifierGPU"
      ],
      "execution_count": 0,
      "outputs": []
    },
    {
      "cell_type": "code",
      "metadata": {
        "id": "gx8P5ODRCC3e",
        "colab_type": "code",
        "colab": {}
      },
      "source": [
        "from google.colab import files"
      ],
      "execution_count": 0,
      "outputs": []
    },
    {
      "cell_type": "code",
      "metadata": {
        "id": "aZ4Tp6D6Pqq6",
        "colab_type": "code",
        "colab": {}
      },
      "source": [
        "files.download('SimpleImageClassifier.nn')"
      ],
      "execution_count": 0,
      "outputs": []
    },
    {
      "cell_type": "code",
      "metadata": {
        "id": "zHtuMFPQLsYf",
        "colab_type": "code",
        "colab": {}
      },
      "source": [
        "files.download('SimpleImageClassifier.csv')"
      ],
      "execution_count": 0,
      "outputs": []
    }
  ]
}
