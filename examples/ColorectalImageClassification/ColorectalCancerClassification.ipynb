{
  "cells": [
    {
      "cell_type": "code",
      "execution_count": null,
      "metadata": {
        "id": "cpHnwLCfgoRa"
      },
      "outputs": [],
      "source": [
        "# This file has an implementation to classify\n",
        "# the Colorectal Cancer Dataset:\n",
        "# https://zenodo.org/record/53169/\n",
        "# https://zenodo.org/record/53169/files/Kather_texture_2016_image_tiles_5000.zip?download=1\n",
        "# https://www.tensorflow.org/datasets/catalog/colorectal_histology\n",
        "\n",
        "# This source code required the CAI Neural API found at:\n",
        "# https://github.com/joaopauloschuler/neural-api\n",
        "\n",
        "# To be able to run this code, you'll need at least 4GB of RAM."
      ]
    },
    {
      "cell_type": "code",
      "execution_count": null,
      "metadata": {
        "id": "caxX6MvjgoRh",
        "outputId": "767f7533-0b75-44e3-e7d1-37afb2e86279",
        "colab": {
          "base_uri": "https://localhost:8080/"
        }
      },
      "outputs": [
        {
          "output_type": "stream",
          "name": "stdout",
          "text": [
            "Reading package lists... Done\n",
            "Building dependency tree       \n",
            "Reading state information... Done\n",
            "zip is already the newest version (3.0-11build1).\n",
            "fpc is already the newest version (3.0.4+dfsg-23).\n",
            "fpc-source is already the newest version (3.0.4+dfsg-23).\n",
            "lazarus is already the newest version (2.0.6+dfsg-3).\n",
            "git is already the newest version (1:2.25.1-1ubuntu3.11).\n",
            "unzip is already the newest version (6.0-25ubuntu1.1).\n",
            "subversion is already the newest version (1.13.0-3ubuntu0.2).\n",
            "0 upgraded, 0 newly installed, 0 to remove and 13 not upgraded.\n"
          ]
        }
      ],
      "source": [
        "!apt-get install -y fpc fpc-source lazarus git subversion zip unzip"
      ]
    },
    {
      "cell_type": "code",
      "execution_count": null,
      "metadata": {
        "id": "ma8c_Sh_goRj",
        "outputId": "1fb91f18-9850-4281-8bb5-99c6f88e0b82",
        "colab": {
          "base_uri": "https://localhost:8080/"
        }
      },
      "outputs": [
        {
          "output_type": "stream",
          "name": "stdout",
          "text": [
            "Checked out revision 8877.\n"
          ]
        }
      ],
      "source": [
        "!svn checkout https://svn.code.sf.net/p/lazarus-ccr/svn/components/multithreadprocs mtprocs"
      ]
    },
    {
      "cell_type": "code",
      "execution_count": null,
      "metadata": {
        "id": "bASxnrNPgoRk",
        "outputId": "ab461b37-9c57-4876-db5d-f7025d12e83b",
        "colab": {
          "base_uri": "https://localhost:8080/"
        }
      },
      "outputs": [
        {
          "output_type": "stream",
          "name": "stdout",
          "text": [
            "Already up to date.\n",
            "Processing /content/k\n",
            "  Preparing metadata (setup.py) ... \u001b[?25l\u001b[?25hdone\n",
            "Requirement already satisfied: pandas>=0.22.0 in /usr/local/lib/python3.10/dist-packages (from cai==0.1.7) (1.5.3)\n",
            "Requirement already satisfied: scikit-image>=0.15.0 in /usr/local/lib/python3.10/dist-packages (from cai==0.1.7) (0.19.3)\n",
            "Requirement already satisfied: opencv-python>=4.1.2.30 in /usr/local/lib/python3.10/dist-packages (from cai==0.1.7) (4.7.0.72)\n",
            "Requirement already satisfied: scikit-learn>=0.21.0 in /usr/local/lib/python3.10/dist-packages (from cai==0.1.7) (1.2.2)\n",
            "Requirement already satisfied: numpy in /usr/local/lib/python3.10/dist-packages (from cai==0.1.7) (1.22.4)\n",
            "Requirement already satisfied: python-dateutil>=2.8.1 in /usr/local/lib/python3.10/dist-packages (from pandas>=0.22.0->cai==0.1.7) (2.8.2)\n",
            "Requirement already satisfied: pytz>=2020.1 in /usr/local/lib/python3.10/dist-packages (from pandas>=0.22.0->cai==0.1.7) (2022.7.1)\n",
            "Requirement already satisfied: scipy>=1.4.1 in /usr/local/lib/python3.10/dist-packages (from scikit-image>=0.15.0->cai==0.1.7) (1.10.1)\n",
            "Requirement already satisfied: networkx>=2.2 in /usr/local/lib/python3.10/dist-packages (from scikit-image>=0.15.0->cai==0.1.7) (3.1)\n",
            "Requirement already satisfied: pillow!=7.1.0,!=7.1.1,!=8.3.0,>=6.1.0 in /usr/local/lib/python3.10/dist-packages (from scikit-image>=0.15.0->cai==0.1.7) (8.4.0)\n",
            "Requirement already satisfied: imageio>=2.4.1 in /usr/local/lib/python3.10/dist-packages (from scikit-image>=0.15.0->cai==0.1.7) (2.25.1)\n",
            "Requirement already satisfied: tifffile>=2019.7.26 in /usr/local/lib/python3.10/dist-packages (from scikit-image>=0.15.0->cai==0.1.7) (2023.7.4)\n",
            "Requirement already satisfied: PyWavelets>=1.1.1 in /usr/local/lib/python3.10/dist-packages (from scikit-image>=0.15.0->cai==0.1.7) (1.4.1)\n",
            "Requirement already satisfied: packaging>=20.0 in /usr/local/lib/python3.10/dist-packages (from scikit-image>=0.15.0->cai==0.1.7) (23.1)\n",
            "Requirement already satisfied: joblib>=1.1.1 in /usr/local/lib/python3.10/dist-packages (from scikit-learn>=0.21.0->cai==0.1.7) (1.3.1)\n",
            "Requirement already satisfied: threadpoolctl>=2.0.0 in /usr/local/lib/python3.10/dist-packages (from scikit-learn>=0.21.0->cai==0.1.7) (3.1.0)\n",
            "Requirement already satisfied: six>=1.5 in /usr/local/lib/python3.10/dist-packages (from python-dateutil>=2.8.1->pandas>=0.22.0->cai==0.1.7) (1.16.0)\n",
            "Building wheels for collected packages: cai\n",
            "  Building wheel for cai (setup.py) ... \u001b[?25l\u001b[?25hdone\n",
            "  Created wheel for cai: filename=cai-0.1.7-py3-none-any.whl size=61379 sha256=32abcb8f0278d98fddba344033ae7d0e8418ee5c227118a1e8568f8d1e1cd4d8\n",
            "  Stored in directory: /tmp/pip-ephem-wheel-cache-xtufyl5h/wheels/80/61/f5/947bedc7e497038def7d1381fb65d37bd126a80e010114b8f1\n",
            "Successfully built cai\n",
            "Installing collected packages: cai\n",
            "  Attempting uninstall: cai\n",
            "    Found existing installation: cai 0.1.7\n",
            "    Uninstalling cai-0.1.7:\n",
            "      Successfully uninstalled cai-0.1.7\n",
            "Successfully installed cai-0.1.7\n"
          ]
        }
      ],
      "source": [
        "import os\n",
        "\n",
        "if not os.path.isdir('k'):\n",
        "  !git clone https://github.com/joaopauloschuler/k-neural-api.git k\n",
        "else:\n",
        "  !cd k && git pull\n",
        "\n",
        "!cd k && pip install ."
      ]
    },
    {
      "cell_type": "code",
      "execution_count": null,
      "metadata": {
        "id": "JZsKi8FegoRm",
        "outputId": "eb07847c-e206-41d3-aeda-acfc18f3a5b0",
        "colab": {
          "base_uri": "https://localhost:8080/"
        }
      },
      "outputs": [
        {
          "output_type": "stream",
          "name": "stdout",
          "text": [
            "Checked out revision 1772.\n"
          ]
        }
      ],
      "source": [
        "!svn checkout https://svn.code.sf.net/p/cai/svncode/trunk/lazarus neural-api"
      ]
    },
    {
      "cell_type": "code",
      "execution_count": null,
      "metadata": {
        "id": "wbybS6i_goRn",
        "outputId": "0f36190d-9f83-47c9-f4d3-3b5bdac168fa",
        "colab": {
          "base_uri": "https://localhost:8080/"
        }
      },
      "outputs": [
        {
          "output_type": "stream",
          "name": "stdout",
          "text": [
            "Hint: (lazarus) [RunTool] \"/usr/bin/fpc\" \"-iWTOTP\"\n",
            "Hint: (lazarus) [RunTool] \"/usr/bin/fpc\" \"-va\" \"compilertest.pas\"\n"
          ]
        }
      ],
      "source": [
        "!lazbuild mtprocs/multithreadprocslaz.lpk"
      ]
    },
    {
      "cell_type": "code",
      "execution_count": null,
      "metadata": {
        "id": "ubDLHcXKgoRo",
        "outputId": "91c66c90-e4c2-4f5e-ea70-2c750fd65582",
        "colab": {
          "base_uri": "https://localhost:8080/"
        }
      },
      "outputs": [
        {
          "output_type": "stream",
          "name": "stdout",
          "text": [
            "Hint: (lazarus) [RunTool] \"/usr/bin/fpc\" \"-iWTOTP\"\n",
            "Hint: (lazarus) [RunTool] \"/usr/bin/fpc\" \"-va\" \"compilertest.pas\"\n",
            "Hint: (lazarus) Build Project: nothing to do.\n",
            "Hint: (lazarus) [RunTool] \"/usr/bin/fpc\" \"-iWTOTP\" \"-Px86_64\" \"-Tlinux\"\n",
            "Hint: (lazarus) [RunTool] \"/usr/bin/fpc\" \"-va\" \"compilertest.pas\" \"-Px86_64\" \"-Tlinux\"\n",
            "Info: (lazarus) Execute Title=\"Compile Project, Mode: Default, Target: /content/neural-api/bin/x86_64-linux/bin/ColorectalImageClassification\"\n",
            "Info: (lazarus) Working Directory=\"/content/neural-api/examples/ColorectalImageClassification/\"\n",
            "Info: (lazarus) Executable=\"/usr/bin/fpc\"\n",
            "Info: (lazarus) Param[0]=\"-MObjFPC\"\n",
            "Info: (lazarus) Param[1]=\"-Scghi\"\n",
            "Info: (lazarus) Param[2]=\"-Cg\"\n",
            "Info: (lazarus) Param[3]=\"-O3\"\n",
            "Info: (lazarus) Param[4]=\"-l\"\n",
            "Info: (lazarus) Param[5]=\"-vewnhibq\"\n",
            "Info: (lazarus) Param[6]=\"-Fi/content/neural-api/neural\"\n",
            "Info: (lazarus) Param[7]=\"-Fi/content/neural-api/bin/x86_64-linux/units\"\n",
            "Info: (lazarus) Param[8]=\"-Fu/content/neural-api/neural\"\n",
            "Info: (lazarus) Param[9]=\"-Fu/usr/lib/lazarus/2.0.6/lcl/units/x86_64-linux\"\n",
            "Info: (lazarus) Param[10]=\"-Fu/usr/lib/lazarus/2.0.6/components/lazutils/lib/x86_64-linux\"\n",
            "Info: (lazarus) Param[11]=\"-Fu/content/mtprocs/lib/x86_64-linux\"\n",
            "Info: (lazarus) Param[12]=\"-Fu/usr/lib/lazarus/2.0.6/packager/units/x86_64-linux\"\n",
            "Info: (lazarus) Param[13]=\"-Fu/content/neural-api/examples/ColorectalImageClassification/\"\n",
            "Info: (lazarus) Param[14]=\"-FU/content/neural-api/bin/x86_64-linux/units/\"\n",
            "Info: (lazarus) Param[15]=\"-FE/content/neural-api/bin/x86_64-linux/bin/\"\n",
            "Info: (lazarus) Param[16]=\"-o/content/neural-api/bin/x86_64-linux/bin/ColorectalImageClassification\"\n",
            "Info: (lazarus) Param[17]=\"-dUseCThreads\"\n",
            "Info: (lazarus) Param[18]=\"-dAVX\"\n",
            "Info: (lazarus) Param[19]=\"-dRelease\"\n",
            "Info: (lazarus) Param[20]=\"ColorectalImageClassification.pas\"\n",
            "Hint: (11030) Start of reading config file /etc/fpc.cfg\n",
            "Compiling Release Version\n",
            "Hint: (11031) End of reading config file /etc/fpc.cfg\n",
            "Free Pascal Compiler version 3.0.4+dfsg-23 [2019/11/25] for x86_64\n",
            "Copyright (c) 1993-2017 by Florian Klaempfl and others\n",
            "(1002) Target OS: Linux for x86-64\n",
            "(3104) Compiling ColorectalImageClassification.pas\n",
            "/content/neural-api/examples/ColorectalImageClassification/ColorectalImageClassification.pas(18,60) Hint: (5023) Unit \"math\" not used in ColorectalImageClassification\n",
            "/usr/bin/ld.bfd: warning: /content/neural-api/bin/x86_64-linux/bin/link.res contains output sections; did you forget -T?\n",
            "(9015) Linking /content/neural-api/bin/x86_64-linux/bin/ColorectalImageClassification\n",
            "(1008) 98 lines compiled, 1.0 sec\n",
            "(1022) 3 hint(s) issued\n"
          ]
        }
      ],
      "source": [
        "!lazbuild neural-api/examples/ColorectalImageClassification/ColorectalImageClassification.lpi"
      ]
    },
    {
      "cell_type": "code",
      "execution_count": null,
      "metadata": {
        "id": "DpwUhqPXgoRp"
      },
      "outputs": [],
      "source": [
        "import cai.layers\n",
        "import cai.datasets\n",
        "import cai.models"
      ]
    },
    {
      "cell_type": "code",
      "execution_count": null,
      "metadata": {
        "id": "4BG6wHXZgoRq"
      },
      "outputs": [],
      "source": [
        "    url_zip_file=\"https://zenodo.org/record/53169/files/Kather_texture_2016_image_tiles_5000.zip?download=1\"\n",
        "    local_zip_file=\"dataset.zip\"\n",
        "    expected_folder_name=\"dataset\"\n",
        "    Verbose=True\n",
        "    cai.datasets.download_zip_and_extract(\n",
        "        url_zip_file=url_zip_file, local_zip_file=local_zip_file,\n",
        "        expected_folder_name=expected_folder_name, Verbose=Verbose)\n",
        "    if os.path.isdir('dataset/Kather_texture_2016_image_tiles_5000'):\n",
        "        !mv dataset/Kather_texture_2016_image_tiles_5000 Kather_texture_2016_image_tiles_5000"
      ]
    },
    {
      "cell_type": "code",
      "execution_count": null,
      "metadata": {
        "id": "BapCbILpgoRq",
        "outputId": "f3684395-7b7e-4ebf-bb23-502e7fca6fd0",
        "colab": {
          "base_uri": "https://localhost:8080/"
        }
      },
      "outputs": [
        {
          "output_type": "stream",
          "name": "stdout",
          "text": [
            "RUNNING: ColorectalImageClassification\n",
            "Creating Neural Network...\n",
            " Layers: 14\n",
            " Neurons:393\n",
            " Weights:201922 Sum:  -22.728985\n",
            "Layer  0 Neurons:   0 Weights:     0 TNNetInput(128,128,3,0,0) Output:128,128,3 Learning Rate:0.0100 Inertia:0.90 Weight Sum:  0.0000 Bias Sum:  0.0000 Branches:1\n",
            "Layer  1 Neurons:  64 Weights:  4800 TNNetConvolutionLinear(64,5,4,2,0) Output:66,66,64 Learning Rate:0.0100 Inertia:0.90 Weight Sum: -5.5226 Bias Sum:  0.0000 Parent:0 Branches:1\n",
            "Layer  2 Neurons:   0 Weights:     0 TNNetMaxPool(2,2,0,0,0) Output:33,33,64 Learning Rate:0.0100 Inertia:0.90 Weight Sum:  0.0000 Bias Sum:  0.0000 Parent:1 Branches:1\n",
            "Layer  3 Neurons:   1 Weights:     2 TNNetMovingStdNormalization(0,0,0,0,0) Output:33,33,64 Learning Rate:0.0100 Inertia:0.90 Weight Sum:  1.0000 Bias Sum:  0.0000 Parent:2 Branches:1\n",
            "Layer  4 Neurons:  64 Weights: 36864 TNNetConvolutionReLU(64,3,1,1,0) Output:33,33,64 Learning Rate:0.0100 Inertia:0.90 Weight Sum:  1.5525 Bias Sum:  0.0000 Parent:3 Branches:1\n",
            "Layer  5 Neurons:  64 Weights: 36864 TNNetConvolutionReLU(64,3,1,1,0) Output:33,33,64 Learning Rate:0.0100 Inertia:0.90 Weight Sum: -2.5266 Bias Sum:  0.0000 Parent:4 Branches:1\n",
            "Layer  6 Neurons:   0 Weights:     0 TNNetMaxPool(2,2,0,0,0) Output:17,17,64 Learning Rate:0.0100 Inertia:0.90 Weight Sum:  0.0000 Bias Sum:  0.0000 Parent:5 Branches:1\n",
            "Layer  7 Neurons:  64 Weights: 36864 TNNetConvolutionReLU(64,3,1,1,0) Output:17,17,64 Learning Rate:0.0100 Inertia:0.90 Weight Sum:-13.5396 Bias Sum:  0.0000 Parent:6 Branches:1\n",
            "Layer  8 Neurons:  64 Weights: 36864 TNNetConvolutionReLU(64,3,1,1,0) Output:17,17,64 Learning Rate:0.0100 Inertia:0.90 Weight Sum: -2.2457 Bias Sum:  0.0000 Parent:7 Branches:1\n",
            "Layer  9 Neurons:  64 Weights: 36864 TNNetConvolutionReLU(64,3,1,2,0) Output:9,9,64 Learning Rate:0.0100 Inertia:0.90 Weight Sum: -3.9597 Bias Sum:  0.0000 Parent:8 Branches:1\n",
            "Layer 10 Neurons:   0 Weights:     0 TNNetDropout(2,1,0,0,0) Output:9,9,64 Learning Rate:0.0100 Inertia:0.90 Weight Sum:  0.0000 Bias Sum:  0.0000 Parent:9 Branches:1\n",
            "Layer 11 Neurons:   0 Weights:     0 TNNetMaxPool(2,2,0,0,0) Output:5,5,64 Learning Rate:0.0100 Inertia:0.90 Weight Sum:  0.0000 Bias Sum:  0.0000 Parent:10 Branches:1\n",
            "Layer 12 Neurons:   8 Weights: 12800 TNNetFullConnectLinear(8,1,1,0,0) Output:8,1,1 Learning Rate:0.0100 Inertia:0.90 Weight Sum:  2.5126 Bias Sum:  0.0000 Parent:11 Branches:1\n",
            "Layer 13 Neurons:   0 Weights:     0 TNNetSoftMax(0,0,0,0,0) Output:8,1,1 Learning Rate:0.0100 Inertia:0.90 Weight Sum:  0.0000 Bias Sum:  0.0000 Parent:12 Branches:0\n",
            "Loading 100% of the Plant leave disease dataset into memory.\n",
            "Training Images:4496 Validation Images:248 Test Images:248\n",
            "File name is: Colorectal\n",
            "Learning rate:0.001000 L2 decay:0.000010 Inertia:0.900000 Batch size:64 Step size:64 Staircase ephocs:10 Min backprop error:0.20\n",
            "Training images: 4496\n",
            "Validation images: 248\n",
            "Test images: 248\n",
            "Computing...\n",
            "640 Examples seen. Accuracy: 0.1754 Error: 1.40972 Loss: 1.49334 Threads: 4 Forward time: 7.44s Backward time: 6.53s Step time: 12.64s\n",
            "1280 Examples seen. Accuracy: 0.1883 Error: 1.46307 Loss: 1.47114 Threads: 4 Forward time: 7.31s Backward time: 6.39s Step time: 12.45s\n",
            "1920 Examples seen. Accuracy: 0.2036 Error: 1.45870 Loss: 1.47636 Threads: 4 Forward time: 7.57s Backward time: 6.55s Step time: 12.65s\n",
            "2560 Examples seen. Accuracy: 0.2260 Error: 1.27622 Loss: 1.39237 Threads: 4 Forward time: 7.39s Backward time: 5.54s Step time: 13.03s\n",
            "3200 Examples seen. Accuracy: 0.2448 Error: 1.30924 Loss: 1.22348 Threads: 4 Forward time: 7.33s Backward time: 6.28s Step time: 12.45s\n",
            "3840 Examples seen. Accuracy: 0.2618 Error: 1.13996 Loss: 1.04693 Threads: 4 Forward time: 7.26s Backward time: 6.05s Step time: 12.37s\n",
            "4480 Examples seen. Accuracy: 0.2761 Error: 1.31667 Loss: 1.24007 Threads: 4 Forward time: 7.24s Backward time: 6.23s Step time: 12.28s\n",
            "Starting Validation.\n",
            "VALIDATION RECORD! Saving NN at Colorectal.nn\n",
            "Epochs: 1 Examples seen:4496 Validation Accuracy: 0.4590 Validation Error: 1.1789 Validation Loss: 1.0892 Total time: 1.63min\n",
            "Epoch time: 1.4377 minutes. 50 epochs: 1.1981 hours.\n",
            "Epochs: 1. Working time: 0.03 hours.\n",
            "5136 Examples seen. Accuracy: 0.2937 Error: 1.14660 Loss: 1.04632 Threads: 4 Forward time: 7.75s Backward time: 6.68s Step time: 11.82s\n",
            "5776 Examples seen. Accuracy: 0.3101 Error: 1.26310 Loss: 1.39850 Threads: 4 Forward time: 7.23s Backward time: 6.11s Step time: 11.94s\n",
            "6416 Examples seen. Accuracy: 0.3268 Error: 1.25185 Loss: 1.19002 Threads: 4 Forward time: 7.22s Backward time: 6.01s Step time: 12.29s\n",
            "7056 Examples seen. Accuracy: 0.3410 Error: 1.26169 Loss: 1.06643 Threads: 4 Forward time: 7.26s Backward time: 6.01s Step time: 12.09s\n",
            "7696 Examples seen. Accuracy: 0.3622 Error: 1.01216 Loss: 1.01539 Threads: 4 Forward time: 7.33s Backward time: 6.07s Step time: 12.13s\n",
            "8336 Examples seen. Accuracy: 0.3791 Error: 1.14605 Loss: 1.05725 Threads: 4 Forward time: 7.30s Backward time: 5.85s Step time: 12.15s\n",
            "^C\n"
          ]
        }
      ],
      "source": [
        "if os.path.isdir('dataset'):\n",
        "  print(\"RUNNING: ColorectalImageClassification\")\n",
        "  !neural-api/bin/x86_64-linux/bin/ColorectalImageClassification"
      ]
    },
    {
      "cell_type": "code",
      "execution_count": null,
      "metadata": {
        "id": "CxjUEGsCgoRr"
      },
      "outputs": [],
      "source": []
    }
  ],
  "metadata": {
    "kernelspec": {
      "display_name": "Python 3",
      "name": "python3"
    },
    "language_info": {
      "codemirror_mode": {
        "name": "ipython",
        "version": 3
      },
      "file_extension": ".py",
      "mimetype": "text/x-python",
      "name": "python",
      "nbconvert_exporter": "python",
      "pygments_lexer": "ipython3",
      "version": "3.6.9"
    },
    "colab": {
      "provenance": [],
      "machine_shape": "hm"
    }
  },
  "nbformat": 4,
  "nbformat_minor": 0
}