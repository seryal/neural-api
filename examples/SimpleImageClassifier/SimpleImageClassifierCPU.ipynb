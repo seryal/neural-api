{
  "nbformat": 4,
  "nbformat_minor": 0,
  "metadata": {
    "colab": {
      "name": "SimpleImageClassificationCPU.ipynb",
      "provenance": [],
      "collapsed_sections": []
    },
    "kernelspec": {
      "name": "python3",
      "display_name": "Python 3"
    }
  },
  "cells": [
    {
      "cell_type": "code",
      "metadata": {
        "id": "qAy5FJaX1dsa",
        "colab_type": "code",
        "outputId": "bb827ad8-cc1e-4bfb-c4e4-a378d4ca3222",
        "colab": {
          "base_uri": "https://localhost:8080/",
          "height": 238
        }
      },
      "source": [
        "!apt-get update"
      ],
      "execution_count": 1,
      "outputs": [
        {
          "output_type": "stream",
          "text": [
            "\r0% [Working]\r            \rIgn:1 https://developer.download.nvidia.com/compute/cuda/repos/ubuntu1804/x86_64  InRelease\n",
            "\r0% [Connecting to archive.ubuntu.com (91.189.88.174)] [Connecting to security.u\r                                                                               \rIgn:2 https://developer.download.nvidia.com/compute/machine-learning/repos/ubuntu1804/x86_64  InRelease\n",
            "\r0% [Connecting to archive.ubuntu.com (91.189.88.174)] [Connecting to security.u\r                                                                               \rHit:3 https://developer.download.nvidia.com/compute/cuda/repos/ubuntu1804/x86_64  Release\n",
            "\r0% [Connecting to archive.ubuntu.com (91.189.88.174)] [Connecting to security.u\r0% [Release.gpg gpgv 564 B] [Waiting for headers] [Waiting for headers] [Connec\r                                                                               \rHit:4 https://developer.download.nvidia.com/compute/machine-learning/repos/ubuntu1804/x86_64  Release\n",
            "\r0% [Release.gpg gpgv 564 B] [Waiting for headers] [Waiting for headers] [Connec\r                                                                               \rHit:5 http://ppa.launchpad.net/graphics-drivers/ppa/ubuntu bionic InRelease\n",
            "\r0% [Release.gpg gpgv 564 B] [Waiting for headers] [Waiting for headers] [Connec\r                                                                               \rGet:6 http://security.ubuntu.com/ubuntu bionic-security InRelease [88.7 kB]\n",
            "Hit:7 http://archive.ubuntu.com/ubuntu bionic InRelease\n",
            "Hit:10 http://ppa.launchpad.net/marutter/c2d4u3.5/ubuntu bionic InRelease\n",
            "Hit:11 https://cloud.r-project.org/bin/linux/ubuntu bionic-cran35/ InRelease\n",
            "Get:12 http://archive.ubuntu.com/ubuntu bionic-updates InRelease [88.7 kB]\n",
            "Get:13 http://archive.ubuntu.com/ubuntu bionic-backports InRelease [74.6 kB]\n",
            "Fetched 252 kB in 2s (135 kB/s)\n",
            "Reading package lists... Done\n"
          ],
          "name": "stdout"
        }
      ]
    },
    {
      "cell_type": "code",
      "metadata": {
        "id": "UHZcHLryCbir",
        "colab_type": "code",
        "outputId": "1ac49585-b6db-47a9-b81c-275b47069766",
        "colab": {
          "base_uri": "https://localhost:8080/",
          "height": 170
        }
      },
      "source": [
        "!apt-get install fpc fpc-source lazarus git subversion"
      ],
      "execution_count": 2,
      "outputs": [
        {
          "output_type": "stream",
          "text": [
            "Reading package lists... Done\n",
            "Building dependency tree       \n",
            "Reading state information... Done\n",
            "lazarus is already the newest version (1.8.2+dfsg-3).\n",
            "subversion is already the newest version (1.9.7-4ubuntu1).\n",
            "git is already the newest version (1:2.17.1-1ubuntu0.4).\n",
            "fpc is already the newest version (3.0.4+dfsg-18ubuntu2).\n",
            "fpc-source is already the newest version (3.0.4+dfsg-18ubuntu2).\n",
            "0 upgraded, 0 newly installed, 0 to remove and 124 not upgraded.\n"
          ],
          "name": "stdout"
        }
      ]
    },
    {
      "cell_type": "code",
      "metadata": {
        "id": "qhr-tY5c1o3J",
        "colab_type": "code",
        "outputId": "22cc6703-15a7-42e5-fd45-ad70b897d21d",
        "colab": {
          "base_uri": "https://localhost:8080/",
          "height": 34
        }
      },
      "source": [
        "!git clone https://github.com/joaopauloschuler/neural-api.git"
      ],
      "execution_count": 3,
      "outputs": [
        {
          "output_type": "stream",
          "text": [
            "fatal: destination path 'neural-api' already exists and is not an empty directory.\n"
          ],
          "name": "stdout"
        }
      ]
    },
    {
      "cell_type": "code",
      "metadata": {
        "id": "8htgbUo9744q",
        "colab_type": "code",
        "outputId": "ae0d4758-a859-4aa5-c66a-5831d61068a6",
        "colab": {
          "base_uri": "https://localhost:8080/",
          "height": 34
        }
      },
      "source": [
        "# !svn checkout https://svn.code.sf.net/p/lazarus-ccr/svn/components/multithreadprocs mtprocs"
      ],
      "execution_count": 4,
      "outputs": [
        {
          "output_type": "stream",
          "text": [
            "Checked out revision 7150.\n"
          ],
          "name": "stdout"
        }
      ]
    },
    {
      "cell_type": "code",
      "metadata": {
        "id": "NYDMPdbn7W9w",
        "colab_type": "code",
        "outputId": "e223dd39-570b-40de-8a19-99522c4767cb",
        "colab": {
          "base_uri": "https://localhost:8080/",
          "height": 51
        }
      },
      "source": [
        "# !lazbuild mtprocs/multithreadprocslaz.lpk"
      ],
      "execution_count": 5,
      "outputs": [
        {
          "output_type": "stream",
          "text": [
            "Hint: (lazarus) [RunTool] /usr/bin/fpc \"-iWTOTP\"\n",
            "Hint: (lazarus) [RunTool] /usr/bin/fpc \"-va\" \"compilertest.pas\"\n"
          ],
          "name": "stdout"
        }
      ]
    },
    {
      "cell_type": "code",
      "metadata": {
        "id": "H_mKELt35Hym",
        "colab_type": "code",
        "outputId": "bc220e6e-c4ba-4710-9107-eb46b0809a3f",
        "colab": {
          "base_uri": "https://localhost:8080/",
          "height": 34
        }
      },
      "source": [
        "!ls -l neural-api/examples/SimpleImageClassifier/SimpleImageClassifier.lpi"
      ],
      "execution_count": 6,
      "outputs": [
        {
          "output_type": "stream",
          "text": [
            "-rw-r--r-- 1 root root 5694 Sep 25 15:57 neural-api/examples/SimpleImageClassifier/SimpleImageClassifier.lpi\n"
          ],
          "name": "stdout"
        }
      ]
    },
    {
      "cell_type": "code",
      "metadata": {
        "id": "_Xye-mYy2UHP",
        "colab_type": "code",
        "outputId": "55a170fb-b5da-4925-e042-758ba81f12af",
        "colab": {
          "base_uri": "https://localhost:8080/",
          "height": 697
        }
      },
      "source": [
        "!lazbuild neural-api/examples/SimpleImageClassifier/SimpleImageClassifier.lpi"
      ],
      "execution_count": 7,
      "outputs": [
        {
          "output_type": "stream",
          "text": [
            "Hint: (lazarus) [RunTool] /usr/bin/fpc \"-iWTOTP\"\n",
            "Hint: (lazarus) [RunTool] /usr/bin/fpc \"-va\" \"compilertest.pas\"\n",
            "Hint: (lazarus) Build Project: nothing to do.\n",
            "Hint: (lazarus) [RunTool] /usr/bin/fpc \"-iWTOTP\" \"-Px86_64\" \"-Tlinux\"\n",
            "Hint: (lazarus) [RunTool] /usr/bin/fpc \"-va\" \"-Px86_64\" \"-Tlinux\" \"compilertest.pas\"\n",
            "Info: (lazarus) Execute Title=\"Compile Project, Mode: Default, Target: /content/neural-api/bin/x86_64-linux/bin/SimpleImageClassifier\"\n",
            "Info: (lazarus) Working Directory=\"/content/neural-api/examples/SimpleImageClassifier/\"\n",
            "Info: (lazarus) Executable=\"/usr/bin/fpc\"\n",
            "Info: (lazarus) Param[0]=\"-MObjFPC\"\n",
            "Info: (lazarus) Param[1]=\"-Scghi\"\n",
            "Info: (lazarus) Param[2]=\"-Cg\"\n",
            "Info: (lazarus) Param[3]=\"-O3\"\n",
            "Info: (lazarus) Param[4]=\"-l\"\n",
            "Info: (lazarus) Param[5]=\"-vewnhibq\"\n",
            "Info: (lazarus) Param[6]=\"-Fi/content/neural-api/neural\"\n",
            "Info: (lazarus) Param[7]=\"-Fi/content/neural-api/bin/x86_64-linux/units\"\n",
            "Info: (lazarus) Param[8]=\"-Fu/content/neural-api/neural\"\n",
            "Info: (lazarus) Param[9]=\"-Fu/usr/lib/lazarus/1.8.2/lcl/units/x86_64-linux\"\n",
            "Info: (lazarus) Param[10]=\"-Fu/usr/lib/lazarus/1.8.2/components/lazutils/lib/x86_64-linux\"\n",
            "Info: (lazarus) Param[11]=\"-Fu/content/mtprocs/lib/x86_64-linux\"\n",
            "Info: (lazarus) Param[12]=\"-Fu/usr/lib/lazarus/1.8.2/packager/units/x86_64-linux\"\n",
            "Info: (lazarus) Param[13]=\"-Fu/content/neural-api/examples/SimpleImageClassifier/\"\n",
            "Info: (lazarus) Param[14]=\"-FU/content/neural-api/bin/x86_64-linux/units/\"\n",
            "Info: (lazarus) Param[15]=\"-FE/content/neural-api/bin/x86_64-linux/bin/\"\n",
            "Info: (lazarus) Param[16]=\"-dUseCThreads\"\n",
            "Info: (lazarus) Param[17]=\"-dAVX\"\n",
            "Info: (lazarus) Param[18]=\"-dRelease\"\n",
            "Info: (lazarus) Param[19]=\"SimpleImageClassifier.lpr\"\n",
            "Hint: (11030) Start of reading config file /etc/fpc.cfg\n",
            "Compiling Release Version\n",
            "Hint: (11031) End of reading config file /etc/fpc.cfg\n",
            "Free Pascal Compiler version 3.0.4+dfsg-18ubuntu2 [2018/08/29] for x86_64\n",
            "Copyright (c) 1993-2017 by Florian Klaempfl and others\n",
            "(1002) Target OS: Linux for x86-64\n",
            "(3104) Compiling SimpleImageClassifier.lpr\n",
            "/content/neural-api/examples/SimpleImageClassifier/SimpleImageClassifier.lpr(10,60) Hint: (5023) Unit \"math\" not used in SimpleImageClassifier\n",
            "(9015) Linking /content/neural-api/bin/x86_64-linux/bin/SimpleImageClassifier\n",
            "/usr/bin/ld.bfd: warning: /content/neural-api/bin/x86_64-linux/bin/link.res contains output sections; did you forget -T?\n",
            "(1008) 65 lines compiled, 0.3 sec\n",
            "(1022) 3 hint(s) issued\n"
          ],
          "name": "stdout"
        }
      ]
    },
    {
      "cell_type": "code",
      "metadata": {
        "id": "7xWWg1E1P2pm",
        "colab_type": "code",
        "outputId": "a3ed81f9-4a13-43bc-e9e7-ce3015ae4580",
        "colab": {
          "base_uri": "https://localhost:8080/",
          "height": 34
        }
      },
      "source": [
        "ls -l neural-api/bin/x86_64-linux/bin/SimpleImageClassifier"
      ],
      "execution_count": 8,
      "outputs": [
        {
          "output_type": "stream",
          "text": [
            "-rwxr-xr-x 1 root root 1348376 Sep 25 16:02 \u001b[0m\u001b[01;32mneural-api/bin/x86_64-linux/bin/SimpleImageClassifier\u001b[0m*\n"
          ],
          "name": "stdout"
        }
      ]
    },
    {
      "cell_type": "code",
      "metadata": {
        "id": "WBxvm6S4-FtJ",
        "colab_type": "code",
        "colab": {
          "base_uri": "https://localhost:8080/",
          "height": 34
        },
        "outputId": "5391809b-0686-494b-c0e9-ff7c70fc3b1e"
      },
      "source": [
        "import os\n",
        "import urllib.request\n",
        "\n",
        "if not os.path.isfile('cifar-10-batches-bin/data_batch_1.bin'):\n",
        "  print(\"Downloading CIFAR-10 Files\")\n",
        "  url = 'https://www.cs.toronto.edu/~kriz/cifar-10-binary.tar.gz'\n",
        "  urllib.request.urlretrieve(url, './file.tar')"
      ],
      "execution_count": 13,
      "outputs": [
        {
          "output_type": "stream",
          "text": [
            "Downloading CIFAR-10 Files\n"
          ],
          "name": "stdout"
        }
      ]
    },
    {
      "cell_type": "code",
      "metadata": {
        "id": "SpfaXVrrKgd0",
        "colab_type": "code",
        "colab": {
          "base_uri": "https://localhost:8080/",
          "height": 102
        },
        "outputId": "72857077-36d5-4142-ae3b-4611cd7df00c"
      },
      "source": [
        "ls -l"
      ],
      "execution_count": 14,
      "outputs": [
        {
          "output_type": "stream",
          "text": [
            "total 166080\n",
            "-rw-r--r-- 1 root root 170052171 Sep 25 16:04 file.tar\n",
            "drwxr-xr-x 5 root root      4096 Sep 25 15:57 \u001b[0m\u001b[01;34mmtprocs\u001b[0m/\n",
            "drwxr-xr-x 6 root root      4096 Sep 25 15:57 \u001b[01;34mneural-api\u001b[0m/\n",
            "drwxr-xr-x 1 root root      4096 Aug 27 16:17 \u001b[01;34msample_data\u001b[0m/\n"
          ],
          "name": "stdout"
        }
      ]
    },
    {
      "cell_type": "code",
      "metadata": {
        "id": "doqZbQkqKy9I",
        "colab_type": "code",
        "colab": {
          "base_uri": "https://localhost:8080/",
          "height": 170
        },
        "outputId": "dba284ff-dacd-479b-8b92-8afd6cb63b31"
      },
      "source": [
        "!tar -xvf ./file.tar"
      ],
      "execution_count": 15,
      "outputs": [
        {
          "output_type": "stream",
          "text": [
            "cifar-10-batches-bin/\n",
            "cifar-10-batches-bin/data_batch_1.bin\n",
            "cifar-10-batches-bin/batches.meta.txt\n",
            "cifar-10-batches-bin/data_batch_3.bin\n",
            "cifar-10-batches-bin/data_batch_4.bin\n",
            "cifar-10-batches-bin/test_batch.bin\n",
            "cifar-10-batches-bin/readme.html\n",
            "cifar-10-batches-bin/data_batch_5.bin\n",
            "cifar-10-batches-bin/data_batch_2.bin\n"
          ],
          "name": "stdout"
        }
      ]
    },
    {
      "cell_type": "code",
      "metadata": {
        "id": "VWB54wU5B1I9",
        "colab_type": "code",
        "colab": {
          "base_uri": "https://localhost:8080/",
          "height": 34
        },
        "outputId": "c05cb150-1c5f-4558-b1fa-7613148c8bf0"
      },
      "source": [
        "if not os.path.isfile('./data_batch_1.bin'):\n",
        "  print(\"Copying files to current folder\")\n",
        "  !cp ./cifar-10-batches-bin/* ./"
      ],
      "execution_count": 16,
      "outputs": [
        {
          "output_type": "stream",
          "text": [
            "Copying files to current folder\n"
          ],
          "name": "stdout"
        }
      ]
    },
    {
      "cell_type": "code",
      "metadata": {
        "id": "X5bpFXiaC_PY",
        "colab_type": "code",
        "colab": {
          "base_uri": "https://localhost:8080/",
          "height": 1000
        },
        "outputId": "aab9a8e4-39bb-4d2b-f097-cfb7ee6f7b20"
      },
      "source": [
        "if os.path.isfile('./data_batch_1.bin'):\n",
        "  print(\"RUNNING!\")\n",
        "  !neural-api/bin/x86_64-linux/bin/SimpleImageClassifier"
      ],
      "execution_count": 0,
      "outputs": [
        {
          "output_type": "stream",
          "text": [
            "RUNNING!\n",
            "Creating Neural Network...\n",
            "Loading 10K images from file \"data_batch_1.bin\" ... GLOBAL MIN MAX  -2.0000  1.9844 -2.0000  1.9844 -2.0000  1.9844 Done.\n",
            "Loading 10K images from file \"data_batch_2.bin\" ... GLOBAL MIN MAX  -2.0000  1.9844 -2.0000  1.9844 -2.0000  1.9844 Done.\n",
            "Loading 10K images from file \"data_batch_3.bin\" ... GLOBAL MIN MAX  -2.0000  1.9844 -2.0000  1.9844 -2.0000  1.9844 Done.\n",
            "Loading 10K images from file \"data_batch_4.bin\" ... GLOBAL MIN MAX  -2.0000  1.9844 -2.0000  1.9844 -2.0000  1.9844 Done.\n",
            "Loading 10K images from file \"data_batch_5.bin\" ... GLOBAL MIN MAX  -2.0000  1.9844 -2.0000  1.9844 -2.0000  1.9844 Done.\n",
            "Loading 10K images from file \"test_batch.bin\" ... GLOBAL MIN MAX  -2.0000  1.9844 -2.0000  1.9844 -2.0000  1.9844 Done.\n",
            "File name is: SimpleImageClassifier\n",
            "Learning rate:0.001000 L2 decay:0.000010 Inertia:0.900000 Batch size:128 Step size:128 Staircase ephocs:17\n",
            "Training images:40000 Validation images: 10000 Test images: 10000\n",
            "Computing...\n",
            "1280 Examples seen. Accuracy:0.1188 Error:   1.79076 Loss:2.27218 Threads: 2 Forward time:  1.06s Backward time:  0.66s Step time:  3.47s\n",
            "2560 Examples seen. Accuracy:0.1176 Error:   1.77372 Loss:2.22663 Threads: 2 Forward time:  1.07s Backward time:  0.65s Step time:  3.49s\n",
            "3840 Examples seen. Accuracy:0.1564 Error:   1.74820 Loss:2.17112 Threads: 2 Forward time:  1.07s Backward time:  0.66s Step time:  3.46s\n",
            "5120 Examples seen. Accuracy:0.1768 Error:   1.74193 Loss:2.13808 Threads: 2 Forward time:  1.06s Backward time:  0.67s Step time:  3.54s\n",
            "6400 Examples seen. Accuracy:0.1771 Error:   1.72990 Loss:2.11128 Threads: 2 Forward time:  1.07s Backward time:  0.69s Step time:  3.56s\n",
            "7680 Examples seen. Accuracy:0.2019 Error:   1.70829 Loss:2.05426 Threads: 2 Forward time:  1.03s Backward time:  0.66s Step time:  3.52s\n",
            "8960 Examples seen. Accuracy:0.2232 Error:   1.71631 Loss:2.12662 Threads: 2 Forward time:  1.08s Backward time:  0.70s Step time:  3.46s\n",
            "10240 Examples seen. Accuracy:0.2322 Error:   1.68901 Loss:2.04654 Threads: 2 Forward time:  1.08s Backward time:  0.70s Step time:  3.60s\n",
            "11520 Examples seen. Accuracy:0.2194 Error:   1.66402 Loss:2.02652 Threads: 2 Forward time:  1.08s Backward time:  0.71s Step time:  3.54s\n",
            "12800 Examples seen. Accuracy:0.2316 Error:   1.67435 Loss:1.96700 Threads: 2 Forward time:  1.07s Backward time:  0.67s Step time:  3.55s\n",
            "14080 Examples seen. Accuracy:0.2274 Error:   1.69936 Loss:2.00523 Threads: 2 Forward time:  1.06s Backward time:  0.68s Step time:  3.53s\n",
            "15360 Examples seen. Accuracy:0.2603 Error:   1.63227 Loss:1.98724 Threads: 2 Forward time:  1.05s Backward time:  0.68s Step time:  3.50s\n",
            "16640 Examples seen. Accuracy:0.2824 Error:   1.59357 Loss:1.84043 Threads: 2 Forward time:  1.04s Backward time:  0.60s Step time:  3.48s\n",
            "17920 Examples seen. Accuracy:0.2769 Error:   1.65528 Loss:2.04168 Threads: 2 Forward time:  1.04s Backward time:  0.64s Step time:  3.44s\n",
            "19200 Examples seen. Accuracy:0.2885 Error:   1.58426 Loss:1.83356 Threads: 2 Forward time:  1.06s Backward time:  0.63s Step time:  3.48s\n",
            "20480 Examples seen. Accuracy:0.2788 Error:   1.63933 Loss:1.93534 Threads: 2 Forward time:  1.08s Backward time:  0.70s Step time:  3.51s\n",
            "21760 Examples seen. Accuracy:0.3020 Error:   1.56632 Loss:1.90310 Threads: 2 Forward time:  1.08s Backward time:  0.72s Step time:  3.65s\n",
            "23040 Examples seen. Accuracy:0.2937 Error:   1.61226 Loss:1.81675 Threads: 2 Forward time:  1.11s Backward time:  0.71s Step time:  3.67s\n",
            "24320 Examples seen. Accuracy:0.2936 Error:   1.59639 Loss:1.87567 Threads: 2 Forward time:  1.12s Backward time:  0.73s Step time:  3.67s\n",
            "25600 Examples seen. Accuracy:0.3185 Error:   1.59675 Loss:1.87008 Threads: 2 Forward time:  1.08s Backward time:  0.71s Step time:  3.67s\n",
            "26880 Examples seen. Accuracy:0.3067 Error:   1.61889 Loss:1.87731 Threads: 2 Forward time:  1.08s Backward time:  0.69s Step time:  3.56s\n",
            "28160 Examples seen. Accuracy:0.3175 Error:   1.56144 Loss:1.85948 Threads: 2 Forward time:  1.09s Backward time:  0.66s Step time:  3.60s\n",
            "29440 Examples seen. Accuracy:0.3118 Error:   1.56116 Loss:1.70890 Threads: 2 Forward time:  1.05s Backward time:  0.54s Step time:  3.37s\n",
            "30720 Examples seen. Accuracy:0.3145 Error:   1.56668 Loss:1.88675 Threads: 2 Forward time:  1.03s Backward time:  0.61s Step time:  3.37s\n",
            "32000 Examples seen. Accuracy:0.3528 Error:   1.53620 Loss:1.77243 Threads: 2 Forward time:  1.05s Backward time:  0.67s Step time:  3.47s\n",
            "33280 Examples seen. Accuracy:0.3376 Error:   1.57619 Loss:1.84636 Threads: 2 Forward time:  1.10s Backward time:  0.69s Step time:  3.51s\n",
            "34560 Examples seen. Accuracy:0.3312 Error:   1.55894 Loss:1.72986 Threads: 2 Forward time:  1.09s Backward time:  0.71s Step time:  3.66s\n",
            "35840 Examples seen. Accuracy:0.3385 Error:   1.54096 Loss:1.76544 Threads: 2 Forward time:  1.08s Backward time:  0.65s Step time:  3.62s\n",
            "37120 Examples seen. Accuracy:0.3428 Error:   1.55824 Loss:1.81274 Threads: 2 Forward time:  1.07s Backward time:  0.65s Step time:  3.51s\n",
            "38400 Examples seen. Accuracy:0.3511 Error:   1.56767 Loss:1.75887 Threads: 2 Forward time:  1.07s Backward time:  0.72s Step time:  3.60s\n",
            "39680 Examples seen. Accuracy:0.3562 Error:   1.59088 Loss:1.87798 Threads: 2 Forward time:  1.10s Backward time:  0.79s Step time:  3.78s\n",
            "Starting Validation.\n",
            "VALIDATION RECORD! Saving NN at SimpleImageClassifier.nn\n",
            "Epochs: 1 Examples seen:40000 Validation Accuracy: 0.4118 Validation Error: 1.3241 Validation Loss: 1.6300 Total time:   2.68min\n",
            "Epoch time: 2.5 minutes. 100 epochs: 4.1 hours.\n",
            "Epochs: 1. Working time: 0.04 hours.\n",
            "41280 Examples seen. Accuracy:0.3436 Error:   1.53694 Loss:1.72003 Threads: 2 Forward time:  1.04s Backward time:  0.67s Step time:  3.51s\n",
            "42560 Examples seen. Accuracy:0.3671 Error:   1.53597 Loss:1.74983 Threads: 2 Forward time:  1.00s Backward time:  0.61s Step time:  3.45s\n",
            "43840 Examples seen. Accuracy:0.3450 Error:   1.60493 Loss:1.90136 Threads: 2 Forward time:  1.09s Backward time:  0.69s Step time:  3.57s\n",
            "45120 Examples seen. Accuracy:0.3361 Error:   1.57897 Loss:1.75250 Threads: 2 Forward time:  1.07s Backward time:  0.66s Step time:  3.51s\n",
            "46400 Examples seen. Accuracy:0.3452 Error:   1.45203 Loss:1.73170 Threads: 2 Forward time:  1.13s Backward time:  0.67s Step time:  3.47s\n",
            "47680 Examples seen. Accuracy:0.3503 Error:   1.56655 Loss:1.72841 Threads: 2 Forward time:  1.05s Backward time:  0.63s Step time:  3.54s\n",
            "48960 Examples seen. Accuracy:0.3637 Error:   1.47907 Loss:1.73577 Threads: 2 Forward time:  1.06s Backward time:  0.62s Step time:  3.47s\n",
            "50240 Examples seen. Accuracy:0.3636 Error:   1.46597 Loss:1.69842 Threads: 2 Forward time:  1.16s Backward time:  0.70s Step time:  3.50s\n",
            "51520 Examples seen. Accuracy:0.3668 Error:   1.45642 Loss:1.62544 Threads: 2 Forward time:  1.10s Backward time:  0.59s Step time:  3.40s\n",
            "52800 Examples seen. Accuracy:0.3649 Error:   1.51544 Loss:1.77783 Threads: 2 Forward time:  1.04s Backward time:  0.59s Step time:  3.42s\n",
            "54080 Examples seen. Accuracy:0.3834 Error:   1.48316 Loss:1.63242 Threads: 2 Forward time:  1.08s Backward time:  0.67s Step time:  3.36s\n",
            "55360 Examples seen. Accuracy:0.4016 Error:   1.44680 Loss:1.71504 Threads: 2 Forward time:  1.05s Backward time:  0.60s Step time:  3.33s\n",
            "56640 Examples seen. Accuracy:0.3885 Error:   1.50477 Loss:1.69111 Threads: 2 Forward time:  1.03s Backward time:  0.56s Step time:  3.28s\n",
            "57920 Examples seen. Accuracy:0.3952 Error:   1.46921 Loss:1.70949 Threads: 2 Forward time:  1.02s Backward time:  0.57s Step time:  3.29s\n",
            "59200 Examples seen. Accuracy:0.4022 Error:   1.44050 Loss:1.62086 Threads: 2 Forward time:  1.06s Backward time:  0.59s Step time:  3.34s\n",
            "60480 Examples seen. Accuracy:0.3833 Error:   1.47049 Loss:1.79427 Threads: 2 Forward time:  1.02s Backward time:  0.63s Step time:  3.32s\n",
            "61760 Examples seen. Accuracy:0.3902 Error:   1.48740 Loss:1.66740 Threads: 2 Forward time:  1.04s Backward time:  0.57s Step time:  3.36s\n",
            "63040 Examples seen. Accuracy:0.3934 Error:   1.44634 Loss:1.63280 Threads: 2 Forward time:  1.02s Backward time:  0.61s Step time:  3.35s\n",
            "64320 Examples seen. Accuracy:0.4068 Error:   1.43773 Loss:1.60923 Threads: 2 Forward time:  1.02s Backward time:  0.62s Step time:  3.40s\n",
            "65600 Examples seen. Accuracy:0.4174 Error:   1.46183 Loss:1.70317 Threads: 2 Forward time:  1.02s Backward time:  0.61s Step time:  3.34s\n",
            "66880 Examples seen. Accuracy:0.4166 Error:   1.43500 Loss:1.63870 Threads: 2 Forward time:  1.03s Backward time:  0.62s Step time:  3.38s\n",
            "68160 Examples seen. Accuracy:0.3986 Error:   1.47850 Loss:1.72843 Threads: 2 Forward time:  1.03s Backward time:  0.62s Step time:  3.35s\n",
            "69440 Examples seen. Accuracy:0.4224 Error:   1.39099 Loss:1.66383 Threads: 2 Forward time:  1.04s Backward time:  0.59s Step time:  3.30s\n",
            "70720 Examples seen. Accuracy:0.3848 Error:   1.49849 Loss:1.74947 Threads: 2 Forward time:  1.03s Backward time:  0.60s Step time:  3.38s\n",
            "72000 Examples seen. Accuracy:0.4171 Error:   1.44358 Loss:1.67253 Threads: 2 Forward time:  1.04s Backward time:  0.59s Step time:  3.32s\n",
            "73280 Examples seen. Accuracy:0.4032 Error:   1.54484 Loss:1.88192 Threads: 2 Forward time:  1.05s Backward time:  0.58s Step time:  3.29s\n",
            "74560 Examples seen. Accuracy:0.4134 Error:   1.44457 Loss:1.65962 Threads: 2 Forward time:  1.05s Backward time:  0.60s Step time:  3.40s\n",
            "75840 Examples seen. Accuracy:0.4162 Error:   1.45549 Loss:1.66101 Threads: 2 Forward time:  1.03s Backward time:  0.60s Step time:  3.37s\n",
            "77120 Examples seen. Accuracy:0.3988 Error:   1.44387 Loss:1.61757 Threads: 2 Forward time:  1.03s Backward time:  0.62s Step time:  3.36s\n",
            "78400 Examples seen. Accuracy:0.3942 Error:   1.51381 Loss:1.72631 Threads: 2 Forward time:  1.03s Backward time:  0.63s Step time:  3.34s\n",
            "79680 Examples seen. Accuracy:0.4097 Error:   1.31200 Loss:1.43277 Threads: 2 Forward time:  1.04s Backward time:  0.59s Step time:  3.31s\n",
            "Starting Validation.\n",
            "VALIDATION RECORD! Saving NN at SimpleImageClassifier.nn\n",
            "Epochs: 2 Examples seen:80000 Validation Accuracy: 0.4285 Validation Error: 1.3028 Validation Loss: 1.5880 Total time:   5.25min\n",
            "Layer  0                                                     Max Output:  0.000 Min Output:  0.000 TNNetInput 32,32,3 Times: 0.00s 0.00s\n",
            "Layer  1 Neurons: 64 Max Weight:   0.279 Min Weight:  -0.260 Max Output:  0.000 Min Output:  0.000 TNNetConvolutionLinear 32,32,64 Times: 0.28s 0.14s Parent:0\n",
            "Layer  2                                                     Max Output:  0.000 Min Output:  0.000 TNNetMaxPool 8,8,64 Times: 0.08s 0.01s Parent:1\n",
            "Layer  3 Neurons: 64 Max Weight:   0.171 Min Weight:  -0.155 Max Output:  0.000 Min Output:  0.000 TNNetConvolutionReLU 6,6,64 Times: 0.03s 0.05s Parent:2\n",
            "Layer  4 Neurons: 64 Max Weight:   0.165 Min Weight:  -0.140 Max Output:  0.000 Min Output:  0.000 TNNetConvolutionReLU 4,4,64 Times: 0.01s 0.02s Parent:3\n",
            "Layer  5 Neurons: 64 Max Weight:   0.189 Min Weight:  -0.199 Max Output:  0.000 Min Output:  0.000 TNNetConvolutionReLU 2,2,64 Times: 0.01s 0.01s Parent:4\n",
            "Layer  6 Neurons: 64 Max Weight:   0.198 Min Weight:  -0.192 Max Output:  0.000 Min Output:  0.000 TNNetConvolutionReLU 1,1,64 Times: 0.00s 0.00s Parent:5\n",
            "Layer  7                                                     Max Output:  0.000 Min Output:  0.000 TNNetDropout 1,1,64 Times: 0.00s 0.00s Parent:6\n",
            "Layer  8                                                     Max Output:  0.000 Min Output:  0.000 TNNetMaxPool 1,1,64 Times: 0.00s 0.00s Parent:7\n",
            "Layer  9 Neurons: 10 Max Weight:   0.350 Min Weight:  -0.393 Max Output:  0.000 Min Output:  0.000 TNNetFullConnectLinear 10,1,1 Times: 0.00s 0.00s Parent:8\n",
            "Layer 10                                                     Max Output:  0.000 Min Output:  0.000 TNNetSoftMax 10,1,1 Times: 0.00s 0.00s Parent:9\n",
            "Epoch time: 2.2 minutes. 100 epochs: 3.6 hours.\n",
            "Epochs: 2. Working time: 0.09 hours.\n",
            "81280 Examples seen. Accuracy:0.4170 Error:   1.48772 Loss:1.76763 Threads: 2 Forward time:  1.10s Backward time:  0.67s Step time:  3.42s\n",
            "82560 Examples seen. Accuracy:0.4122 Error:   1.45061 Loss:1.72195 Threads: 2 Forward time:  1.07s Backward time:  0.62s Step time:  3.49s\n",
            "83840 Examples seen. Accuracy:0.4240 Error:   1.32114 Loss:1.51658 Threads: 2 Forward time:  1.09s Backward time:  0.54s Step time:  3.36s\n",
            "85120 Examples seen. Accuracy:0.4323 Error:   1.42926 Loss:1.50997 Threads: 2 Forward time:  1.05s Backward time:  0.63s Step time:  3.39s\n",
            "86400 Examples seen. Accuracy:0.4353 Error:   1.31169 Loss:1.50527 Threads: 2 Forward time:  1.06s Backward time:  0.62s Step time:  3.36s\n",
            "87680 Examples seen. Accuracy:0.4401 Error:   1.40738 Loss:1.59776 Threads: 2 Forward time:  1.05s Backward time:  0.58s Step time:  3.47s\n"
          ],
          "name": "stdout"
        }
      ]
    },
    {
      "cell_type": "code",
      "metadata": {
        "id": "gx8P5ODRCC3e",
        "colab_type": "code",
        "colab": {}
      },
      "source": [
        "from google.colab import files"
      ],
      "execution_count": 0,
      "outputs": []
    },
    {
      "cell_type": "code",
      "metadata": {
        "id": "aZ4Tp6D6Pqq6",
        "colab_type": "code",
        "colab": {}
      },
      "source": [
        "files.download('SimpleImageClassifier.nn')"
      ],
      "execution_count": 0,
      "outputs": []
    },
    {
      "cell_type": "code",
      "metadata": {
        "id": "zHtuMFPQLsYf",
        "colab_type": "code",
        "colab": {}
      },
      "source": [
        "files.download('SimpleImageClassifier.csv')"
      ],
      "execution_count": 0,
      "outputs": []
    }
  ]
}
